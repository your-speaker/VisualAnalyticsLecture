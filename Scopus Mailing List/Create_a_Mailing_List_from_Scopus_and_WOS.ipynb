{
  "nbformat": 4,
  "nbformat_minor": 0,
  "metadata": {
    "colab": {
      "provenance": []
    },
    "kernelspec": {
      "name": "python3",
      "display_name": "Python 3"
    },
    "language_info": {
      "name": "python"
    }
  },
  "cells": [
    {
      "cell_type": "code",
      "execution_count": null,
      "metadata": {
        "id": "ZzRQqwiMa3O3"
      },
      "outputs": [],
      "source": [
        "import pandas as pd\n",
        "import re"
      ]
    },
    {
      "cell_type": "code",
      "source": [
        "# aux function\n",
        "def extract_emails(text):\n",
        "    if isinstance(text, str):\n",
        "        emails = re.findall(r'\\b[A-Za-z0-9._%+-]+@[A-Za-z0-9.-]+\\.[A-Z|a-z]{2,}\\b', text)\n",
        "        return emails\n",
        "    else:\n",
        "        text = str(text)  # Convert non-string inputs to string\n",
        "        emails = re.findall(r'\\b[A-Za-z0-9._%+-]+@[A-Za-z0-9.-]+\\.[A-Z|a-z]{2,}\\b', text)\n",
        "        return emails\n"
      ],
      "metadata": {
        "id": "8wlcueoub4gF"
      },
      "execution_count": null,
      "outputs": []
    },
    {
      "cell_type": "code",
      "source": [
        "source = 'scopus' # 'scopus', 'wos'\n",
        "file_path_scopus = '/content/scopus (3).csv'\n",
        "\n",
        "if source == 'wos':\n",
        "\n",
        "    addresses_wos = pd.read_excel(file_path_wos, usecols=[\"Email Addresses\"])\n",
        "    print(addresses_wos.shape)\n",
        "    addresses_wos = addresses_wos.dropna()\n",
        "    print(addresses_wos.shape)\n",
        "    # addresses_wos\n",
        "    addresses_wos['Emails'] = addresses_wos['Email Addresses'].str.split(';')\n",
        "    addresses_wos = addresses_wos.explode('Emails')\n",
        "    addresses_wos_final = list(addresses_wos['Emails'])\n",
        "\n",
        "elif source == 'scopus':\n",
        "\n",
        "    addresses_scopus = pd.read_csv(file_path_scopus, usecols=[\"Correspondence Address\"])\n",
        "    addresses_scopus['Emails'] = addresses_scopus['Correspondence Address'].apply(extract_emails)\n",
        "    print(addresses_scopus)\n",
        "    addresses_scopus = addresses_scopus.dropna()\n",
        "    print(addresses_scopus)\n",
        "    # addresses_scopus\n",
        "    addresses_scopus = addresses_scopus.explode('Emails').reset_index(drop=True)\n",
        "    addresses_scopus_final = list(addresses_scopus['Emails'])\n"
      ],
      "metadata": {
        "id": "tKinoST7cDw9",
        "colab": {
          "base_uri": "https://localhost:8080/"
        },
        "outputId": "2acf6444-f533-4b2a-9e7c-30b8def3f5f0"
      },
      "execution_count": null,
      "outputs": [
        {
          "output_type": "stream",
          "name": "stdout",
          "text": [
            "                                 Correspondence Address  \\\n",
            "0     Y.S. Balcioglu; Department of Business Adminis...   \n",
            "1     N. Wendt; UiS Business School, University of S...   \n",
            "2     Y. Huang; Bartlett School of Sustainable Const...   \n",
            "3     M. Helferich; Fraunhofer Institute for Systems...   \n",
            "4     A. Kalam; Department of Marketing, Faculty of ...   \n",
            "...                                                 ...   \n",
            "8821                                                NaN   \n",
            "8822                                                NaN   \n",
            "8823                                                NaN   \n",
            "8824                                                NaN   \n",
            "8825                                                NaN   \n",
            "\n",
            "                                    Emails  \n",
            "0                 [ysbalcioglu@gtu.edu.tr]  \n",
            "1                   [ni.wendt@stud.uis.no]  \n",
            "2                      [zczqy75@ucl.ac.uk]  \n",
            "3     [marvin.helferich@isi.fraunhofer.de]  \n",
            "4           [kalam@postgrad.curtin.edu.my]  \n",
            "...                                    ...  \n",
            "8821                                    []  \n",
            "8822                                    []  \n",
            "8823                                    []  \n",
            "8824                                    []  \n",
            "8825                                    []  \n",
            "\n",
            "[8826 rows x 2 columns]\n",
            "                                 Correspondence Address  \\\n",
            "0     Y.S. Balcioglu; Department of Business Adminis...   \n",
            "1     N. Wendt; UiS Business School, University of S...   \n",
            "2     Y. Huang; Bartlett School of Sustainable Const...   \n",
            "3     M. Helferich; Fraunhofer Institute for Systems...   \n",
            "4     A. Kalam; Department of Marketing, Faculty of ...   \n",
            "...                                                 ...   \n",
            "8796  I. Mersiowsky; TUHH Technologie GmbH, Integrat...   \n",
            "8797  D. Kletzan; Austrian Inst. of Econ. Res. WIFO,...   \n",
            "8798  I.H. Rowlands; Environment and Business Progra...   \n",
            "8799  C. Smith; Dept. of Food Science/Nutrition 225,...   \n",
            "8803  J.A. Aragón-Correa; Fac. of Econ. and Bus. Adm...   \n",
            "\n",
            "                                    Emails  \n",
            "0                 [ysbalcioglu@gtu.edu.tr]  \n",
            "1                   [ni.wendt@stud.uis.no]  \n",
            "2                      [zczqy75@ucl.ac.uk]  \n",
            "3     [marvin.helferich@isi.fraunhofer.de]  \n",
            "4           [kalam@postgrad.curtin.edu.my]  \n",
            "...                                    ...  \n",
            "8796                [mersiowsky@tutech.de]  \n",
            "8797          [daniela.kletzan@wifo.ac.at]  \n",
            "8798               [irowland@uwaterloo.ca]  \n",
            "8799                      [csmith@umn.edu]  \n",
            "8803               [jaragon@platon.ugr.es]  \n",
            "\n",
            "[7094 rows x 2 columns]\n"
          ]
        }
      ]
    },
    {
      "cell_type": "code",
      "source": [
        "# Convert to set for faster processing\n",
        "addresses_wos_set = set(addresses_wos_final)\n",
        "addresses_scopus_set = set(addresses_scopus_final)\n",
        "\n",
        "# Find duplicates\n",
        "duplicates = addresses_wos_set.intersection(addresses_scopus_set)\n",
        "\n",
        "# Check if there are any duplicates\n",
        "if duplicates:\n",
        "    print(\"Duplicates found between addresses_wos and addresses_scopus:\")\n",
        "    print(duplicates)\n",
        "else:\n",
        "    print(\"No duplicates found between addresses_wos and addresses_scopus.\")\n",
        "\n",
        "unique_addresses = addresses_wos_set.union(addresses_scopus_set)\n"
      ],
      "metadata": {
        "id": "_3bYHUtpcG-9",
        "colab": {
          "base_uri": "https://localhost:8080/",
          "height": 211
        },
        "outputId": "595ad668-71fa-483b-b741-4b39400348c7"
      },
      "execution_count": null,
      "outputs": [
        {
          "output_type": "error",
          "ename": "NameError",
          "evalue": "name 'addresses_wos_final' is not defined",
          "traceback": [
            "\u001b[0;31m---------------------------------------------------------------------------\u001b[0m",
            "\u001b[0;31mNameError\u001b[0m                                 Traceback (most recent call last)",
            "\u001b[0;32m<ipython-input-4-89229f3c8960>\u001b[0m in \u001b[0;36m<cell line: 2>\u001b[0;34m()\u001b[0m\n\u001b[1;32m      1\u001b[0m \u001b[0;31m# Convert to set for faster processing\u001b[0m\u001b[0;34m\u001b[0m\u001b[0;34m\u001b[0m\u001b[0m\n\u001b[0;32m----> 2\u001b[0;31m \u001b[0maddresses_wos_set\u001b[0m \u001b[0;34m=\u001b[0m \u001b[0mset\u001b[0m\u001b[0;34m(\u001b[0m\u001b[0maddresses_wos_final\u001b[0m\u001b[0;34m)\u001b[0m\u001b[0;34m\u001b[0m\u001b[0;34m\u001b[0m\u001b[0m\n\u001b[0m\u001b[1;32m      3\u001b[0m \u001b[0maddresses_scopus_set\u001b[0m \u001b[0;34m=\u001b[0m \u001b[0mset\u001b[0m\u001b[0;34m(\u001b[0m\u001b[0maddresses_scopus_final\u001b[0m\u001b[0;34m)\u001b[0m\u001b[0;34m\u001b[0m\u001b[0;34m\u001b[0m\u001b[0m\n\u001b[1;32m      4\u001b[0m \u001b[0;34m\u001b[0m\u001b[0m\n\u001b[1;32m      5\u001b[0m \u001b[0;31m# Find duplicates\u001b[0m\u001b[0;34m\u001b[0m\u001b[0;34m\u001b[0m\u001b[0m\n",
            "\u001b[0;31mNameError\u001b[0m: name 'addresses_wos_final' is not defined"
          ]
        }
      ]
    },
    {
      "cell_type": "code",
      "source": [
        "unique_addresses = set(addresses_scopus_final)"
      ],
      "metadata": {
        "id": "8rEPnI1qOfZy"
      },
      "execution_count": null,
      "outputs": []
    },
    {
      "cell_type": "code",
      "source": [
        "unique_addresses_list = list(unique_addresses)\n",
        "len(unique_addresses_list)\n",
        "unique_addresses_list = [str(email) for email in unique_addresses_list]\n"
      ],
      "metadata": {
        "id": "l3JZp9tqmOSO"
      },
      "execution_count": null,
      "outputs": []
    },
    {
      "cell_type": "code",
      "source": [
        "# Save the mailing list\n",
        "file_path = \"/content/unique_email_addresses.txt\"\n",
        "\n",
        "# salvataggio (; + a capo per semplicità)\n",
        "with open(file_path, 'w') as file:\n",
        "    for email in unique_addresses_list:\n",
        "        file.write(email + ';' + '\\n')\n",
        "\n",
        "print(\"Unique email addresses saved to:\", file_path)\n"
      ],
      "metadata": {
        "id": "XFPqdU4pmOVr",
        "colab": {
          "base_uri": "https://localhost:8080/"
        },
        "outputId": "c3e85908-524b-4982-9fce-d857bc75ef38"
      },
      "execution_count": null,
      "outputs": [
        {
          "output_type": "stream",
          "name": "stdout",
          "text": [
            "Unique email addresses saved to: /content/unique_email_addresses.txt\n"
          ]
        }
      ]
    },
    {
      "cell_type": "code",
      "source": [],
      "metadata": {
        "id": "DENu6X0NmOgJ"
      },
      "execution_count": null,
      "outputs": []
    }
  ]
}